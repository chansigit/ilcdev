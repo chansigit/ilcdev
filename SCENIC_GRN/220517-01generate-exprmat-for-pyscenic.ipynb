{
 "cells": [
  {
   "cell_type": "code",
   "execution_count": 1,
   "id": "d0bb8f3d",
   "metadata": {
    "ExecuteTime": {
     "end_time": "2022-05-17T09:13:38.316874Z",
     "start_time": "2022-05-17T09:13:36.425713Z"
    }
   },
   "outputs": [],
   "source": [
    "import scanpy as sc,pandas as pd"
   ]
  },
  {
   "cell_type": "code",
   "execution_count": 2,
   "id": "cb25b2ad",
   "metadata": {
    "ExecuteTime": {
     "end_time": "2022-05-17T09:13:41.251399Z",
     "start_time": "2022-05-17T09:13:38.319387Z"
    }
   },
   "outputs": [],
   "source": [
    "abm = sc.read_h5ad('/home/csj/mywork/ilc/220409-preprocessed_data/220516-ABM.h5ad')\n",
    "fl  = sc.read_h5ad('/home/csj/mywork/ilc/220409-preprocessed_data/220516-FL.h5ad')"
   ]
  },
  {
   "cell_type": "code",
   "execution_count": 3,
   "id": "4abaf8f9",
   "metadata": {
    "ExecuteTime": {
     "end_time": "2022-05-17T09:13:45.085563Z",
     "start_time": "2022-05-17T09:13:45.075773Z"
    }
   },
   "outputs": [],
   "source": [
    "expr_abm = pd.DataFrame(abm.layers['normalized'], index=abm.obs.index,columns=abm.var_names)\n",
    "expr_fl  = pd.DataFrame(fl.layers['normalized'], index=fl.obs.index, columns=fl.var_names)"
   ]
  },
  {
   "cell_type": "code",
   "execution_count": 4,
   "id": "c4e4e468",
   "metadata": {
    "ExecuteTime": {
     "end_time": "2022-05-17T09:15:10.479480Z",
     "start_time": "2022-05-17T09:13:58.823388Z"
    }
   },
   "outputs": [],
   "source": [
    "expr_abm.to_csv('expr_mat_abm.tsv', sep=\"\\t\")\n",
    "expr_fl.to_csv( 'expr_mat_fl.tsv',  sep=\"\\t\")"
   ]
  }
 ],
 "metadata": {
  "kernelspec": {
   "display_name": "Python 3 (ipykernel)",
   "language": "python",
   "name": "python3"
  },
  "language_info": {
   "codemirror_mode": {
    "name": "ipython",
    "version": 3
   },
   "file_extension": ".py",
   "mimetype": "text/x-python",
   "name": "python",
   "nbconvert_exporter": "python",
   "pygments_lexer": "ipython3",
   "version": "3.8.13"
  },
  "toc": {
   "base_numbering": 1,
   "nav_menu": {},
   "number_sections": true,
   "sideBar": true,
   "skip_h1_title": false,
   "title_cell": "Table of Contents",
   "title_sidebar": "Contents",
   "toc_cell": false,
   "toc_position": {},
   "toc_section_display": true,
   "toc_window_display": false
  }
 },
 "nbformat": 4,
 "nbformat_minor": 5
}
