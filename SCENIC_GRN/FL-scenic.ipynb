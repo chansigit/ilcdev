{
 "cells": [
  {
   "cell_type": "code",
   "execution_count": 10,
   "id": "fb7611fe",
   "metadata": {
    "ExecuteTime": {
     "end_time": "2021-06-18T07:02:06.009479Z",
     "start_time": "2021-06-18T07:02:06.004718Z"
    }
   },
   "outputs": [],
   "source": [
    "f_loom_path_scenic= \"/home/hcauser/mywork/ilc/210618-pySCENIC/FL.loom\"\n",
    "f_tfs= \"allTFs_mm.txt\""
   ]
  },
  {
   "cell_type": "markdown",
   "id": "e1cbd18a",
   "metadata": {},
   "source": [
    "# step 1. grn"
   ]
  },
  {
   "cell_type": "code",
   "execution_count": 41,
   "id": "69108977",
   "metadata": {
    "ExecuteTime": {
     "end_time": "2021-06-18T11:16:58.687162Z",
     "start_time": "2021-06-18T08:05:19.352899Z"
    }
   },
   "outputs": [
    {
     "name": "stdout",
     "output_type": "stream",
     "text": [
      "Loaded expression matrix of 4284 cells and 13730 genes in 2.239614248275757 seconds...\n",
      "Loaded 1721 TFs...\n",
      "starting genie3 using 24 processes...\n",
      "100%|███████████████████████████████████| 13730/13730 [3:10:30<00:00,  1.20it/s]\n",
      "Done in 11442.662986040115 seconds.\n"
     ]
    }
   ],
   "source": [
    "!/home/hcauser/anaconda3/envs/r410py37/bin/arboreto_with_multiprocessing.py \\\n",
    "-m genie3 -o FL_adj_seed1.tsv \\\n",
    "--num_workers 24 --seed 1 \\\n",
    "{f_loom_path_scenic} {f_tfs}"
   ]
  },
  {
   "cell_type": "code",
   "execution_count": 42,
   "id": "ba68de1c",
   "metadata": {
    "ExecuteTime": {
     "end_time": "2021-06-18T14:28:21.259028Z",
     "start_time": "2021-06-18T11:16:58.700980Z"
    }
   },
   "outputs": [
    {
     "name": "stdout",
     "output_type": "stream",
     "text": [
      "Loaded expression matrix of 4284 cells and 13730 genes in 2.2405824661254883 seconds...\n",
      "Loaded 1721 TFs...\n",
      "starting genie3 using 24 processes...\n",
      " 97%|█████████████████████████████████▉ | 13309/13730 [3:04:12<09:30,  1.36s/it]"
     ]
    },
    {
     "name": "stderr",
     "output_type": "stream",
     "text": [
      "IOPub message rate exceeded.\n",
      "The notebook server will temporarily stop sending output\n",
      "to the client in order to avoid crashing it.\n",
      "To change this limit, set the config variable\n",
      "`--NotebookApp.iopub_msg_rate_limit`.\n",
      "\n",
      "Current values:\n",
      "NotebookApp.iopub_msg_rate_limit=1000.0 (msgs/sec)\n",
      "NotebookApp.rate_limit_window=3.0 (secs)\n",
      "\n"
     ]
    }
   ],
   "source": [
    "!/home/hcauser/anaconda3/envs/r410py37/bin/arboreto_with_multiprocessing.py \\\n",
    "-m genie3 -o FL_adj_seed2.tsv \\\n",
    "--num_workers 24 --seed 2 \\\n",
    "{f_loom_path_scenic} {f_tfs}"
   ]
  },
  {
   "cell_type": "code",
   "execution_count": 43,
   "id": "76e82564",
   "metadata": {
    "ExecuteTime": {
     "end_time": "2021-06-18T17:39:39.036382Z",
     "start_time": "2021-06-18T14:28:21.264584Z"
    }
   },
   "outputs": [
    {
     "name": "stdout",
     "output_type": "stream",
     "text": [
      "Loaded expression matrix of 4284 cells and 13730 genes in 2.2922401428222656 seconds...\n",
      "Loaded 1721 TFs...\n",
      "starting genie3 using 24 processes...\n",
      " 97%|█████████████████████████████████▊ | 13264/13730 [3:03:29<07:26,  1.04it/s]"
     ]
    },
    {
     "name": "stderr",
     "output_type": "stream",
     "text": [
      "IOPub message rate exceeded.\n",
      "The notebook server will temporarily stop sending output\n",
      "to the client in order to avoid crashing it.\n",
      "To change this limit, set the config variable\n",
      "`--NotebookApp.iopub_msg_rate_limit`.\n",
      "\n",
      "Current values:\n",
      "NotebookApp.iopub_msg_rate_limit=1000.0 (msgs/sec)\n",
      "NotebookApp.rate_limit_window=3.0 (secs)\n",
      "\n"
     ]
    }
   ],
   "source": [
    "!/home/hcauser/anaconda3/envs/r410py37/bin/arboreto_with_multiprocessing.py \\\n",
    "-m genie3 -o FL_adj_seed3.tsv \\\n",
    "--num_workers 24 --seed 3 \\\n",
    "{f_loom_path_scenic} {f_tfs}"
   ]
  },
  {
   "cell_type": "code",
   "execution_count": 44,
   "id": "adbe952c",
   "metadata": {
    "ExecuteTime": {
     "end_time": "2021-06-18T20:50:36.146838Z",
     "start_time": "2021-06-18T17:39:39.041316Z"
    }
   },
   "outputs": [
    {
     "name": "stdout",
     "output_type": "stream",
     "text": [
      "Loaded expression matrix of 4284 cells and 13730 genes in 2.2509217262268066 seconds...\n",
      "Loaded 1721 TFs...\n",
      "starting genie3 using 24 processes...\n",
      " 96%|█████████████████████████████████▋ | 13198/13730 [3:02:11<07:56,  1.12it/s]"
     ]
    },
    {
     "name": "stderr",
     "output_type": "stream",
     "text": [
      "IOPub message rate exceeded.\n",
      "The notebook server will temporarily stop sending output\n",
      "to the client in order to avoid crashing it.\n",
      "To change this limit, set the config variable\n",
      "`--NotebookApp.iopub_msg_rate_limit`.\n",
      "\n",
      "Current values:\n",
      "NotebookApp.iopub_msg_rate_limit=1000.0 (msgs/sec)\n",
      "NotebookApp.rate_limit_window=3.0 (secs)\n",
      "\n"
     ]
    }
   ],
   "source": [
    "!/home/hcauser/anaconda3/envs/r410py37/bin/arboreto_with_multiprocessing.py \\\n",
    "-m genie3 -o FL_adj_seed4.tsv \\\n",
    "--num_workers 24 --seed 4 \\\n",
    "{f_loom_path_scenic} {f_tfs}"
   ]
  },
  {
   "cell_type": "code",
   "execution_count": 45,
   "id": "a207492f",
   "metadata": {
    "ExecuteTime": {
     "end_time": "2021-06-19T00:01:45.219051Z",
     "start_time": "2021-06-18T20:50:36.152018Z"
    }
   },
   "outputs": [
    {
     "name": "stdout",
     "output_type": "stream",
     "text": [
      "Loaded expression matrix of 4284 cells and 13730 genes in 2.225017547607422 seconds...\n",
      "Loaded 1721 TFs...\n",
      "starting genie3 using 24 processes...\n",
      " 96%|█████████████████████████████████▌ | 13178/13730 [3:02:08<11:16,  1.22s/it]"
     ]
    },
    {
     "name": "stderr",
     "output_type": "stream",
     "text": [
      "IOPub message rate exceeded.\n",
      "The notebook server will temporarily stop sending output\n",
      "to the client in order to avoid crashing it.\n",
      "To change this limit, set the config variable\n",
      "`--NotebookApp.iopub_msg_rate_limit`.\n",
      "\n",
      "Current values:\n",
      "NotebookApp.iopub_msg_rate_limit=1000.0 (msgs/sec)\n",
      "NotebookApp.rate_limit_window=3.0 (secs)\n",
      "\n"
     ]
    }
   ],
   "source": [
    "!/home/hcauser/anaconda3/envs/r410py37/bin/arboreto_with_multiprocessing.py \\\n",
    "-m genie3 -o FL_adj_seed5.tsv \\\n",
    "--num_workers 24 --seed 5 \\\n",
    "{f_loom_path_scenic} {f_tfs}"
   ]
  },
  {
   "cell_type": "markdown",
   "id": "af6985d6",
   "metadata": {},
   "source": [
    "# step 2. ctx"
   ]
  },
  {
   "cell_type": "code",
   "execution_count": 54,
   "id": "46b02c78",
   "metadata": {
    "ExecuteTime": {
     "end_time": "2021-06-20T07:19:23.289799Z",
     "start_time": "2021-06-20T07:19:23.280950Z"
    }
   },
   "outputs": [],
   "source": [
    "import glob\n",
    "# ranking databases\n",
    "f_db_glob = \"/home/hcauser/scenic_databases/cisTarget_databases/mm10/*feather\"\n",
    "f_db_names = ' '.join( glob.glob(f_db_glob) )\n",
    "\n",
    "# motif databases\n",
    "f_motif_path = \"/home/hcauser/scenic_databases/motifs-v9-nr.mgi-m0.001-o0.0.tbl\"\n"
   ]
  },
  {
   "cell_type": "code",
   "execution_count": 55,
   "id": "9bb2b723",
   "metadata": {
    "ExecuteTime": {
     "end_time": "2021-06-20T07:47:09.605688Z",
     "start_time": "2021-06-20T07:19:26.976833Z"
    },
    "collapsed": true,
    "jupyter": {
     "outputs_hidden": true
    }
   },
   "outputs": [
    {
     "name": "stdout",
     "output_type": "stream",
     "text": [
      "\n",
      "2021-06-20 15:19:34,161 - pyscenic.cli.pyscenic - INFO - Creating modules.\n",
      "\n",
      "2021-06-20 15:19:40,269 - pyscenic.cli.pyscenic - INFO - Loading expression matrix.\n",
      "\n",
      "2021-06-20 15:19:43,256 - pyscenic.utils - INFO - Calculating Pearson correlations.\n",
      "\n",
      "2021-06-20 15:19:46,328 - pyscenic.utils - WARNING - Note on correlation calculation: the default behaviour for calculating the correlations has changed after pySCENIC verion 0.9.16. Previously, the default was to calculate the correlation between a TF and target gene using only cells with non-zero expression values (mask_dropouts=True). The current default is now to use all cells to match the behavior of the R verision of SCENIC. The original settings can be retained by setting 'rho_mask_dropouts=True' in the modules_from_adjacencies function, or '--mask_dropouts' from the CLI.\n",
      "\tDropout masking is currently set to [True].\n",
      "\n",
      "2021-06-20 15:20:36,441 - pyscenic.utils - INFO - Creating modules.\n",
      "\n",
      "2021-06-20 15:21:50,954 - pyscenic.cli.pyscenic - INFO - Loading databases.\n",
      "\n",
      "2021-06-20 15:21:50,955 - pyscenic.cli.pyscenic - INFO - Calculating regulons.\n",
      "[########################################] | 100% Completed |  3min  7.4s\n",
      "[                                        ] | 0% Completed |  3min  9.0s\n",
      "2021-06-20 15:28:08,749 - pyscenic.transform - WARNING - Less than 80% of the genes in Usf2 could be mapped to mm10__refseq-r80__10kb_up_and_down_tss.mc9nr. Skipping this module.\n",
      "[                                        ] | 0% Completed |  3min 12.6s\n",
      "2021-06-20 15:28:12,254 - pyscenic.transform - WARNING - Less than 80% of the genes in Ezr could be mapped to mm10__refseq-r80__500bp_up_and_100bp_down_tss.mc9nr. Skipping this module.\n",
      "[#                                       ] | 2% Completed |  4min  9.8s\n",
      "2021-06-20 15:29:09,516 - pyscenic.transform - WARNING - Less than 80% of the genes in Hoxa9 could be mapped to mm10__refseq-r80__500bp_up_and_100bp_down_tss.mc9nr. Skipping this module.\n",
      "[#                                       ] | 2% Completed |  7min 34.2s\n",
      "2021-06-20 15:32:33,946 - pyscenic.transform - WARNING - Less than 80% of the genes in Ube2v1 could be mapped to mm10__refseq-r80__10kb_up_and_down_tss.mc9nr. Skipping this module.\n",
      "[#                                       ] | 2% Completed |  7min 34.3s\n",
      "2021-06-20 15:32:34,048 - pyscenic.transform - WARNING - Less than 80% of the genes in Ubxn1 could be mapped to mm10__refseq-r80__10kb_up_and_down_tss.mc9nr. Skipping this module.\n",
      "[#                                       ] | 2% Completed |  7min 34.8s\n",
      "2021-06-20 15:32:34,472 - pyscenic.transform - WARNING - Less than 80% of the genes in Regulon for Gm6710 could be mapped to mm10__refseq-r80__10kb_up_and_down_tss.mc9nr. Skipping this module.\n",
      "[#                                       ] | 2% Completed |  8min 18.1s\n",
      "2021-06-20 15:33:17,855 - pyscenic.transform - WARNING - Less than 80% of the genes in Regulon for Hdac8 could be mapped to mm10__refseq-r80__10kb_up_and_down_tss.mc9nr. Skipping this module.\n",
      "[#                                       ] | 2% Completed |  8min 25.7s\n",
      "2021-06-20 15:33:25,445 - pyscenic.transform - WARNING - Less than 80% of the genes in Usf2 could be mapped to mm10__refseq-r80__500bp_up_and_100bp_down_tss.mc9nr. Skipping this module.\n",
      "[#                                       ] | 2% Completed |  8min 57.5s\n",
      "2021-06-20 15:33:57,281 - pyscenic.transform - WARNING - Less than 80% of the genes in Regulon for Gm6710 could be mapped to mm10__refseq-r80__500bp_up_and_100bp_down_tss.mc9nr. Skipping this module.\n",
      "[#                                       ] | 2% Completed |  9min 17.5s\n",
      "2021-06-20 15:34:17,179 - pyscenic.transform - WARNING - Less than 80% of the genes in Regulon for Hdac8 could be mapped to mm10__refseq-r80__500bp_up_and_100bp_down_tss.mc9nr. Skipping this module.\n",
      "[#                                       ] | 2% Completed |  9min 19.1s\n",
      "2021-06-20 15:34:18,826 - pyscenic.transform - WARNING - Less than 80% of the genes in Ezr could be mapped to mm10__refseq-r80__10kb_up_and_down_tss.mc9nr. Skipping this module.\n",
      "[#                                       ] | 2% Completed | 11min 31.5s\n",
      "2021-06-20 15:36:31,218 - pyscenic.transform - WARNING - Less than 80% of the genes in Ube2v1 could be mapped to mm10__refseq-r80__500bp_up_and_100bp_down_tss.mc9nr. Skipping this module.\n",
      "[#                                       ] | 2% Completed | 11min 31.6s\n",
      "2021-06-20 15:36:31,327 - pyscenic.transform - WARNING - Less than 80% of the genes in Ubxn1 could be mapped to mm10__refseq-r80__500bp_up_and_100bp_down_tss.mc9nr. Skipping this module.\n",
      "[########################################] | 100% Completed | 22min  1.9s\n",
      "\n",
      "2021-06-20 15:47:02,496 - pyscenic.cli.pyscenic - INFO - Writing results to file.\n"
     ]
    }
   ],
   "source": [
    "!/home/hcauser/anaconda3/envs/r410py37/bin/pyscenic ctx \\\n",
    "    FL_adj_seed1.tsv \\\n",
    "    {f_db_names} \\\n",
    "    --annotations_fname {f_motif_path} \\\n",
    "    --expression_mtx_fname {f_loom_path_scenic} \\\n",
    "    --output FL_reg_seed1.tsv \\\n",
    "    --mask_dropouts \\\n",
    "    --num_workers 20"
   ]
  },
  {
   "cell_type": "code",
   "execution_count": 56,
   "id": "58cd4a0d",
   "metadata": {
    "ExecuteTime": {
     "end_time": "2021-06-20T08:16:53.452990Z",
     "start_time": "2021-06-20T07:47:09.610823Z"
    },
    "collapsed": true,
    "jupyter": {
     "outputs_hidden": true
    }
   },
   "outputs": [
    {
     "name": "stdout",
     "output_type": "stream",
     "text": [
      "\n",
      "2021-06-20 15:47:17,678 - pyscenic.cli.pyscenic - INFO - Creating modules.\n",
      "\n",
      "2021-06-20 15:47:23,771 - pyscenic.cli.pyscenic - INFO - Loading expression matrix.\n",
      "\n",
      "2021-06-20 15:47:26,793 - pyscenic.utils - INFO - Calculating Pearson correlations.\n",
      "\n",
      "2021-06-20 15:47:29,859 - pyscenic.utils - WARNING - Note on correlation calculation: the default behaviour for calculating the correlations has changed after pySCENIC verion 0.9.16. Previously, the default was to calculate the correlation between a TF and target gene using only cells with non-zero expression values (mask_dropouts=True). The current default is now to use all cells to match the behavior of the R verision of SCENIC. The original settings can be retained by setting 'rho_mask_dropouts=True' in the modules_from_adjacencies function, or '--mask_dropouts' from the CLI.\n",
      "\tDropout masking is currently set to [True].\n",
      "\n",
      "2021-06-20 15:48:20,014 - pyscenic.utils - INFO - Creating modules.\n",
      "\n",
      "2021-06-20 15:49:32,921 - pyscenic.cli.pyscenic - INFO - Loading databases.\n",
      "\n",
      "2021-06-20 15:49:32,922 - pyscenic.cli.pyscenic - INFO - Calculating regulons.\n",
      "[########################################] | 100% Completed |  2min 51.7s\n",
      "[#                                       ] | 2% Completed |  3min 47.3s\n",
      "2021-06-20 15:56:13,244 - pyscenic.transform - WARNING - Less than 80% of the genes in Zfp787 could be mapped to mm10__refseq-r80__500bp_up_and_100bp_down_tss.mc9nr. Skipping this module.\n",
      "[#                                       ] | 2% Completed |  4min 54.6s\n",
      "2021-06-20 15:57:20,516 - pyscenic.transform - WARNING - Less than 80% of the genes in Irx3 could be mapped to mm10__refseq-r80__10kb_up_and_down_tss.mc9nr. Skipping this module.\n",
      "[#                                       ] | 2% Completed |  5min 36.4s\n",
      "2021-06-20 15:58:02,360 - pyscenic.transform - WARNING - Less than 80% of the genes in Lyl1 could be mapped to mm10__refseq-r80__10kb_up_and_down_tss.mc9nr. Skipping this module.\n",
      "[#                                       ] | 2% Completed |  6min 32.3s\n",
      "2021-06-20 15:58:58,200 - pyscenic.transform - WARNING - Less than 80% of the genes in Regulon for Hdac8 could be mapped to mm10__refseq-r80__500bp_up_and_100bp_down_tss.mc9nr. Skipping this module.\n",
      "[#                                       ] | 2% Completed |  7min 44.2s\n",
      "2021-06-20 16:00:10,082 - pyscenic.transform - WARNING - Less than 80% of the genes in Ube2v1 could be mapped to mm10__refseq-r80__500bp_up_and_100bp_down_tss.mc9nr. Skipping this module.\n",
      "[#                                       ] | 2% Completed |  7min 44.3s\n",
      "2021-06-20 16:00:10,192 - pyscenic.transform - WARNING - Less than 80% of the genes in Ubxn1 could be mapped to mm10__refseq-r80__500bp_up_and_100bp_down_tss.mc9nr. Skipping this module.\n",
      "[#                                       ] | 2% Completed |  8min 26.9s\n",
      "2021-06-20 16:00:52,820 - pyscenic.transform - WARNING - Less than 80% of the genes in Zfp787 could be mapped to mm10__refseq-r80__10kb_up_and_down_tss.mc9nr. Skipping this module.\n",
      "[#                                       ] | 2% Completed |  8min 31.8s\n",
      "2021-06-20 16:00:57,687 - pyscenic.transform - WARNING - Less than 80% of the genes in Hdac8 could be mapped to mm10__refseq-r80__500bp_up_and_100bp_down_tss.mc9nr. Skipping this module.\n",
      "[#                                       ] | 2% Completed |  9min 18.9s"
     ]
    },
    {
     "name": "stderr",
     "output_type": "stream",
     "text": [
      "IOPub message rate exceeded.\n",
      "The notebook server will temporarily stop sending output\n",
      "to the client in order to avoid crashing it.\n",
      "To change this limit, set the config variable\n",
      "`--NotebookApp.iopub_msg_rate_limit`.\n",
      "\n",
      "Current values:\n",
      "NotebookApp.iopub_msg_rate_limit=1000.0 (msgs/sec)\n",
      "NotebookApp.rate_limit_window=3.0 (secs)\n",
      "\n"
     ]
    },
    {
     "name": "stdout",
     "output_type": "stream",
     "text": [
      "[########################################] | 100% Completed | 24min 19.4s\n",
      "\n",
      "2021-06-20 16:16:46,393 - pyscenic.cli.pyscenic - INFO - Writing results to file.\n"
     ]
    }
   ],
   "source": [
    "!/home/hcauser/anaconda3/envs/r410py37/bin/pyscenic ctx \\\n",
    "    FL_adj_seed2.tsv \\\n",
    "    {f_db_names} \\\n",
    "    --annotations_fname {f_motif_path} \\\n",
    "    --expression_mtx_fname {f_loom_path_scenic} \\\n",
    "    --output FL_reg_seed2.tsv \\\n",
    "    --mask_dropouts \\\n",
    "    --num_workers 20"
   ]
  },
  {
   "cell_type": "code",
   "execution_count": 57,
   "id": "5a30499a",
   "metadata": {
    "ExecuteTime": {
     "end_time": "2021-06-20T08:44:12.165880Z",
     "start_time": "2021-06-20T08:16:53.459158Z"
    },
    "collapsed": true,
    "jupyter": {
     "outputs_hidden": true
    }
   },
   "outputs": [
    {
     "name": "stdout",
     "output_type": "stream",
     "text": [
      "\n",
      "2021-06-20 16:17:01,264 - pyscenic.cli.pyscenic - INFO - Creating modules.\n",
      "\n",
      "2021-06-20 16:17:07,266 - pyscenic.cli.pyscenic - INFO - Loading expression matrix.\n",
      "\n",
      "2021-06-20 16:17:10,175 - pyscenic.utils - INFO - Calculating Pearson correlations.\n",
      "\n",
      "2021-06-20 16:17:13,241 - pyscenic.utils - WARNING - Note on correlation calculation: the default behaviour for calculating the correlations has changed after pySCENIC verion 0.9.16. Previously, the default was to calculate the correlation between a TF and target gene using only cells with non-zero expression values (mask_dropouts=True). The current default is now to use all cells to match the behavior of the R verision of SCENIC. The original settings can be retained by setting 'rho_mask_dropouts=True' in the modules_from_adjacencies function, or '--mask_dropouts' from the CLI.\n",
      "\tDropout masking is currently set to [True].\n",
      "\n",
      "2021-06-20 16:18:04,730 - pyscenic.utils - INFO - Creating modules.\n",
      "\n",
      "2021-06-20 16:19:17,444 - pyscenic.cli.pyscenic - INFO - Loading databases.\n",
      "\n",
      "2021-06-20 16:19:17,446 - pyscenic.cli.pyscenic - INFO - Calculating regulons.\n",
      "[########################################] | 100% Completed |  2min 55.1s\n",
      "[                                        ] | 0% Completed |  2min  8.2s\n",
      "2021-06-20 16:24:22,248 - pyscenic.transform - WARNING - Less than 80% of the genes in Regulon for Ubxn1 could be mapped to mm10__refseq-r80__10kb_up_and_down_tss.mc9nr. Skipping this module.\n",
      "[                                        ] | 0% Completed |  2min 58.4s\n",
      "2021-06-20 16:25:12,355 - pyscenic.transform - WARNING - Less than 80% of the genes in Ube2v1 could be mapped to mm10__refseq-r80__10kb_up_and_down_tss.mc9nr. Skipping this module.\n",
      "[                                        ] | 0% Completed |  3min 27.3s\n",
      "2021-06-20 16:25:41,355 - pyscenic.transform - WARNING - Less than 80% of the genes in Zfp771 could be mapped to mm10__refseq-r80__10kb_up_and_down_tss.mc9nr. Skipping this module.\n",
      "[                                        ] | 0% Completed |  3min 27.5s\n",
      "2021-06-20 16:25:41,450 - pyscenic.transform - WARNING - Less than 80% of the genes in Zfp787 could be mapped to mm10__refseq-r80__10kb_up_and_down_tss.mc9nr. Skipping this module.\n",
      "[#                                       ] | 2% Completed |  3min 54.0s\n",
      "2021-06-20 16:26:07,927 - pyscenic.transform - WARNING - Less than 80% of the genes in Hoxa9 could be mapped to mm10__refseq-r80__500bp_up_and_100bp_down_tss.mc9nr. Skipping this module.\n",
      "[#                                       ] | 2% Completed |  4min 57.7s\n",
      "2021-06-20 16:27:11,704 - pyscenic.transform - WARNING - Less than 80% of the genes in Lyl1 could be mapped to mm10__refseq-r80__500bp_up_and_100bp_down_tss.mc9nr. Skipping this module.\n",
      "[#                                       ] | 2% Completed |  6min 29.7s\n",
      "2021-06-20 16:28:43,689 - pyscenic.transform - WARNING - Less than 80% of the genes in Regulon for Ubxn1 could be mapped to mm10__refseq-r80__500bp_up_and_100bp_down_tss.mc9nr. Skipping this module.\n",
      "[#                                       ] | 2% Completed |  7min 20.2s\n",
      "2021-06-20 16:29:34,170 - pyscenic.transform - WARNING - Less than 80% of the genes in Ube2v1 could be mapped to mm10__refseq-r80__500bp_up_and_100bp_down_tss.mc9nr. Skipping this module.\n",
      "[#                                       ] | 2% Completed |  7min 34.2s\n",
      "2021-06-20 16:29:48,196 - pyscenic.transform - WARNING - Less than 80% of the genes in Zfp771 could be mapped to mm10__refseq-r80__500bp_up_and_100bp_down_tss.mc9nr. Skipping this module.\n",
      "[#                                       ] | 2% Completed |  7min 34.3s\n",
      "2021-06-20 16:29:48,299 - pyscenic.transform - WARNING - Less than 80% of the genes in Zfp787 could be mapped to mm10__refseq-r80__500bp_up_and_100bp_down_tss.mc9nr. Skipping this module.\n",
      "[#                                       ] | 2% Completed |  7min 41.5s\n",
      "2021-06-20 16:29:55,440 - pyscenic.transform - WARNING - Less than 80% of the genes in Spag7 could be mapped to mm10__refseq-r80__10kb_up_and_down_tss.mc9nr. Skipping this module.\n",
      "[#                                       ] | 2% Completed |  7min 51.5s\n",
      "2021-06-20 16:30:05,459 - pyscenic.transform - WARNING - Less than 80% of the genes in Regulon for Hdac8 could be mapped to mm10__refseq-r80__10kb_up_and_down_tss.mc9nr. Skipping this module.\n",
      "[#                                       ] | 2% Completed |  8min  9.3s\n",
      "2021-06-20 16:30:23,266 - pyscenic.transform - WARNING - Less than 80% of the genes in Ube2v1 could be mapped to mm10__refseq-r80__10kb_up_and_down_tss.mc9nr. Skipping this module.\n",
      "[#                                       ] | 2% Completed |  8min  9.4s\n",
      "2021-06-20 16:30:23,372 - pyscenic.transform - WARNING - Less than 80% of the genes in Ubxn1 could be mapped to mm10__refseq-r80__10kb_up_and_down_tss.mc9nr. Skipping this module.\n",
      "[#                                       ] | 2% Completed |  9min  5.9s\n",
      "2021-06-20 16:31:19,907 - pyscenic.transform - WARNING - Less than 80% of the genes in Regulon for Hdac8 could be mapped to mm10__refseq-r80__500bp_up_and_100bp_down_tss.mc9nr. Skipping this module.\n",
      "[#                                       ] | 2% Completed |  9min 50.1s\n",
      "2021-06-20 16:32:04,071 - pyscenic.transform - WARNING - Less than 80% of the genes in Regulon for Kdm5a could be mapped to mm10__refseq-r80__10kb_up_and_down_tss.mc9nr. Skipping this module.\n",
      "[#                                       ] | 2% Completed | 10min 26.2s\n",
      "2021-06-20 16:32:40,198 - pyscenic.transform - WARNING - Less than 80% of the genes in Regulon for Kdm5a could be mapped to mm10__refseq-r80__500bp_up_and_100bp_down_tss.mc9nr. Skipping this module.\n",
      "[#                                       ] | 2% Completed | 11min  3.9s\n",
      "2021-06-20 16:33:17,910 - pyscenic.transform - WARNING - Less than 80% of the genes in Spag7 could be mapped to mm10__refseq-r80__500bp_up_and_100bp_down_tss.mc9nr. Skipping this module.\n",
      "[#                                       ] | 2% Completed | 11min 43.7s\n",
      "2021-06-20 16:33:57,690 - pyscenic.transform - WARNING - Less than 80% of the genes in Ube2v1 could be mapped to mm10__refseq-r80__500bp_up_and_100bp_down_tss.mc9nr. Skipping this module.\n",
      "[#                                       ] | 2% Completed | 11min 43.8s\n",
      "2021-06-20 16:33:57,807 - pyscenic.transform - WARNING - Less than 80% of the genes in Ubxn1 could be mapped to mm10__refseq-r80__500bp_up_and_100bp_down_tss.mc9nr. Skipping this module.\n",
      "[#                                       ] | 2% Completed | 11min 55.3s\n",
      "2021-06-20 16:34:09,270 - pyscenic.transform - WARNING - Less than 80% of the genes in Lyl1 could be mapped to mm10__refseq-r80__10kb_up_and_down_tss.mc9nr. Skipping this module.\n",
      "[########################################] | 100% Completed | 21min 49.8s\n",
      "\n",
      "2021-06-20 16:44:04,732 - pyscenic.cli.pyscenic - INFO - Writing results to file.\n"
     ]
    }
   ],
   "source": [
    "!/home/hcauser/anaconda3/envs/r410py37/bin/pyscenic ctx \\\n",
    "    FL_adj_seed3.tsv \\\n",
    "    {f_db_names} \\\n",
    "    --annotations_fname {f_motif_path} \\\n",
    "    --expression_mtx_fname {f_loom_path_scenic} \\\n",
    "    --output FL_reg_seed3.tsv \\\n",
    "    --mask_dropouts \\\n",
    "    --num_workers 20"
   ]
  },
  {
   "cell_type": "code",
   "execution_count": 58,
   "id": "0e5ac377",
   "metadata": {
    "ExecuteTime": {
     "end_time": "2021-06-20T09:14:07.117208Z",
     "start_time": "2021-06-20T08:44:12.171271Z"
    },
    "collapsed": true,
    "jupyter": {
     "outputs_hidden": true
    }
   },
   "outputs": [
    {
     "name": "stdout",
     "output_type": "stream",
     "text": [
      "\n",
      "2021-06-20 16:44:20,379 - pyscenic.cli.pyscenic - INFO - Creating modules.\n",
      "\n",
      "2021-06-20 16:44:26,495 - pyscenic.cli.pyscenic - INFO - Loading expression matrix.\n",
      "\n",
      "2021-06-20 16:44:29,448 - pyscenic.utils - INFO - Calculating Pearson correlations.\n",
      "\n",
      "2021-06-20 16:44:32,505 - pyscenic.utils - WARNING - Note on correlation calculation: the default behaviour for calculating the correlations has changed after pySCENIC verion 0.9.16. Previously, the default was to calculate the correlation between a TF and target gene using only cells with non-zero expression values (mask_dropouts=True). The current default is now to use all cells to match the behavior of the R verision of SCENIC. The original settings can be retained by setting 'rho_mask_dropouts=True' in the modules_from_adjacencies function, or '--mask_dropouts' from the CLI.\n",
      "\tDropout masking is currently set to [True].\n",
      "\n",
      "2021-06-20 16:45:25,349 - pyscenic.utils - INFO - Creating modules.\n",
      "\n",
      "2021-06-20 16:46:39,448 - pyscenic.cli.pyscenic - INFO - Loading databases.\n",
      "\n",
      "2021-06-20 16:46:39,449 - pyscenic.cli.pyscenic - INFO - Calculating regulons.\n",
      "[########################################] | 100% Completed |  2min 58.8s\n",
      "[                                        ] | 0% Completed |  2min 16.8s\n",
      "2021-06-20 16:51:56,465 - pyscenic.transform - WARNING - Less than 80% of the genes in Regulon for Ubxn1 could be mapped to mm10__refseq-r80__500bp_up_and_100bp_down_tss.mc9nr. Skipping this module.\n",
      "[                                        ] | 0% Completed |  3min 19.5s\n",
      "2021-06-20 16:52:59,096 - pyscenic.transform - WARNING - Less than 80% of the genes in Zfp358 could be mapped to mm10__refseq-r80__500bp_up_and_100bp_down_tss.mc9nr. Skipping this module.\n",
      "[#                                       ] | 2% Completed |  4min 31.0s\n",
      "2021-06-20 16:54:10,569 - pyscenic.transform - WARNING - Less than 80% of the genes in Hoxa9 could be mapped to mm10__refseq-r80__10kb_up_and_down_tss.mc9nr. Skipping this module.\n",
      "[#                                       ] | 2% Completed |  5min 34.1s\n",
      "2021-06-20 16:55:13,692 - pyscenic.transform - WARNING - Less than 80% of the genes in Lyl1 could be mapped to mm10__refseq-r80__10kb_up_and_down_tss.mc9nr. Skipping this module.\n",
      "[#                                       ] | 2% Completed |  6min 21.6s\n",
      "2021-06-20 16:56:01,231 - pyscenic.transform - WARNING - Less than 80% of the genes in Regulon for Hcfc1 could be mapped to mm10__refseq-r80__500bp_up_and_100bp_down_tss.mc9nr. Skipping this module.\n",
      "[#                                       ] | 2% Completed |  6min 26.3s\n",
      "2021-06-20 16:56:05,837 - pyscenic.transform - WARNING - Less than 80% of the genes in Regulon for Hdac8 could be mapped to mm10__refseq-r80__500bp_up_and_100bp_down_tss.mc9nr. Skipping this module.\n",
      "[#                                       ] | 2% Completed |  6min 31.6s\n",
      "2021-06-20 16:56:11,204 - pyscenic.transform - WARNING - Less than 80% of the genes in Rbm17 could be mapped to mm10__refseq-r80__500bp_up_and_100bp_down_tss.mc9nr. Skipping this module.\n",
      "[#                                       ] | 2% Completed |  6min 50.5s\n",
      "2021-06-20 16:56:30,073 - pyscenic.transform - WARNING - Less than 80% of the genes in Regulon for Ubxn1 could be mapped to mm10__refseq-r80__10kb_up_and_down_tss.mc9nr. Skipping this module.\n",
      "[#                                       ] | 2% Completed |  7min 48.2s\n",
      "2021-06-20 16:57:27,818 - pyscenic.transform - WARNING - Less than 80% of the genes in Ube2v1 could be mapped to mm10__refseq-r80__500bp_up_and_100bp_down_tss.mc9nr. Skipping this module.\n",
      "[#                                       ] | 2% Completed |  7min 48.3s\n",
      "2021-06-20 16:57:27,920 - pyscenic.transform - WARNING - Less than 80% of the genes in Ubxn1 could be mapped to mm10__refseq-r80__500bp_up_and_100bp_down_tss.mc9nr. Skipping this module.\n",
      "[#                                       ] | 2% Completed |  8min 33.4s\n",
      "2021-06-20 16:58:13,029 - pyscenic.transform - WARNING - Less than 80% of the genes in Hdac8 could be mapped to mm10__refseq-r80__500bp_up_and_100bp_down_tss.mc9nr. Skipping this module.\n",
      "[#                                       ] | 2% Completed |  8min 49.0s\n",
      "2021-06-20 16:58:28,556 - pyscenic.transform - WARNING - Less than 80% of the genes in Zfp358 could be mapped to mm10__refseq-r80__10kb_up_and_down_tss.mc9nr. Skipping this module.\n",
      "[#                                       ] | 2% Completed | 10min  7.5s\n",
      "2021-06-20 16:59:47,062 - pyscenic.transform - WARNING - Less than 80% of the genes in Hoxa9 could be mapped to mm10__refseq-r80__500bp_up_and_100bp_down_tss.mc9nr. Skipping this module.\n",
      "[#                                       ] | 2% Completed | 11min 11.0s\n",
      "2021-06-20 17:00:50,560 - pyscenic.transform - WARNING - Less than 80% of the genes in Lyl1 could be mapped to mm10__refseq-r80__500bp_up_and_100bp_down_tss.mc9nr. Skipping this module.\n",
      "[#                                       ] | 2% Completed | 11min 20.4s\n",
      "2021-06-20 17:00:59,974 - pyscenic.transform - WARNING - Less than 80% of the genes in Regulon for Hcfc1 could be mapped to mm10__refseq-r80__10kb_up_and_down_tss.mc9nr. Skipping this module.\n",
      "[#                                       ] | 2% Completed | 11min 30.8s\n",
      "2021-06-20 17:01:10,402 - pyscenic.transform - WARNING - Less than 80% of the genes in Regulon for Hdac8 could be mapped to mm10__refseq-r80__10kb_up_and_down_tss.mc9nr. Skipping this module.\n",
      "[#                                       ] | 2% Completed | 11min 49.0s\n",
      "2021-06-20 17:01:28,549 - pyscenic.transform - WARNING - Less than 80% of the genes in Rbm17 could be mapped to mm10__refseq-r80__10kb_up_and_down_tss.mc9nr. Skipping this module.\n",
      "[#                                       ] | 2% Completed | 12min 43.4s\n",
      "2021-06-20 17:02:23,058 - pyscenic.transform - WARNING - Less than 80% of the genes in Ube2v1 could be mapped to mm10__refseq-r80__10kb_up_and_down_tss.mc9nr. Skipping this module.\n",
      "[#                                       ] | 2% Completed | 12min 43.5s\n",
      "2021-06-20 17:02:23,160 - pyscenic.transform - WARNING - Less than 80% of the genes in Ubxn1 could be mapped to mm10__refseq-r80__10kb_up_and_down_tss.mc9nr. Skipping this module.\n",
      "[###########                             ] | 29% Completed | 14min 34.3s"
     ]
    },
    {
     "name": "stderr",
     "output_type": "stream",
     "text": [
      "IOPub message rate exceeded.\n",
      "The notebook server will temporarily stop sending output\n",
      "to the client in order to avoid crashing it.\n",
      "To change this limit, set the config variable\n",
      "`--NotebookApp.iopub_msg_rate_limit`.\n",
      "\n",
      "Current values:\n",
      "NotebookApp.iopub_msg_rate_limit=1000.0 (msgs/sec)\n",
      "NotebookApp.rate_limit_window=3.0 (secs)\n",
      "\n"
     ]
    },
    {
     "name": "stdout",
     "output_type": "stream",
     "text": [
      "[####################################    ] | 91% Completed | 23min 29.2s"
     ]
    },
    {
     "name": "stderr",
     "output_type": "stream",
     "text": [
      "IOPub message rate exceeded.\n",
      "The notebook server will temporarily stop sending output\n",
      "to the client in order to avoid crashing it.\n",
      "To change this limit, set the config variable\n",
      "`--NotebookApp.iopub_msg_rate_limit`.\n",
      "\n",
      "Current values:\n",
      "NotebookApp.iopub_msg_rate_limit=1000.0 (msgs/sec)\n",
      "NotebookApp.rate_limit_window=3.0 (secs)\n",
      "\n"
     ]
    }
   ],
   "source": [
    "!/home/hcauser/anaconda3/envs/r410py37/bin/pyscenic ctx \\\n",
    "    FL_adj_seed4.tsv \\\n",
    "    {f_db_names} \\\n",
    "    --annotations_fname {f_motif_path} \\\n",
    "    --expression_mtx_fname {f_loom_path_scenic} \\\n",
    "    --output FL_reg_seed4.tsv \\\n",
    "    --mask_dropouts \\\n",
    "    --num_workers 20"
   ]
  },
  {
   "cell_type": "code",
   "execution_count": 59,
   "id": "6c9d1a30",
   "metadata": {
    "ExecuteTime": {
     "end_time": "2021-06-20T09:41:37.212293Z",
     "start_time": "2021-06-20T09:14:07.122326Z"
    }
   },
   "outputs": [
    {
     "name": "stdout",
     "output_type": "stream",
     "text": [
      "\n",
      "2021-06-20 17:14:15,887 - pyscenic.cli.pyscenic - INFO - Creating modules.\n",
      "\n",
      "2021-06-20 17:14:21,925 - pyscenic.cli.pyscenic - INFO - Loading expression matrix.\n",
      "\n",
      "2021-06-20 17:14:24,963 - pyscenic.utils - INFO - Calculating Pearson correlations.\n",
      "\n",
      "2021-06-20 17:14:28,061 - pyscenic.utils - WARNING - Note on correlation calculation: the default behaviour for calculating the correlations has changed after pySCENIC verion 0.9.16. Previously, the default was to calculate the correlation between a TF and target gene using only cells with non-zero expression values (mask_dropouts=True). The current default is now to use all cells to match the behavior of the R verision of SCENIC. The original settings can be retained by setting 'rho_mask_dropouts=True' in the modules_from_adjacencies function, or '--mask_dropouts' from the CLI.\n",
      "\tDropout masking is currently set to [True].\n",
      "\n",
      "2021-06-20 17:15:18,248 - pyscenic.utils - INFO - Creating modules.\n",
      "\n",
      "2021-06-20 17:16:30,561 - pyscenic.cli.pyscenic - INFO - Loading databases.\n",
      "\n",
      "2021-06-20 17:16:30,562 - pyscenic.cli.pyscenic - INFO - Calculating regulons.\n",
      "[                                        ] | 0% Completed |  3min 59.6s\n",
      "2021-06-20 17:23:27,691 - pyscenic.transform - WARNING - Less than 80% of the genes in Hoxa9 could be mapped to mm10__refseq-r80__500bp_up_and_100bp_down_tss.mc9nr. Skipping this module.\n",
      "[#                                       ] | 2% Completed |  6min 30.8s"
     ]
    },
    {
     "name": "stderr",
     "output_type": "stream",
     "text": [
      "IOPub message rate exceeded.\n",
      "The notebook server will temporarily stop sending output\n",
      "to the client in order to avoid crashing it.\n",
      "To change this limit, set the config variable\n",
      "`--NotebookApp.iopub_msg_rate_limit`.\n",
      "\n",
      "Current values:\n",
      "NotebookApp.iopub_msg_rate_limit=1000.0 (msgs/sec)\n",
      "NotebookApp.rate_limit_window=3.0 (secs)\n",
      "\n"
     ]
    },
    {
     "name": "stdout",
     "output_type": "stream",
     "text": [
      "[########################################] | 100% Completed | 22min  1.4s\n",
      "\n",
      "2021-06-20 17:41:30,456 - pyscenic.cli.pyscenic - INFO - Writing results to file.\n"
     ]
    }
   ],
   "source": [
    "!/home/hcauser/anaconda3/envs/r410py37/bin/pyscenic ctx \\\n",
    "    FL_adj_seed5.tsv \\\n",
    "    {f_db_names} \\\n",
    "    --annotations_fname {f_motif_path} \\\n",
    "    --expression_mtx_fname {f_loom_path_scenic} \\\n",
    "    --output FL_reg_seed5.tsv \\\n",
    "    --mask_dropouts \\\n",
    "    --num_workers 20"
   ]
  },
  {
   "cell_type": "code",
   "execution_count": null,
   "id": "0687e012",
   "metadata": {},
   "outputs": [],
   "source": []
  }
 ],
 "metadata": {
  "kernelspec": {
   "display_name": "Python 3 (ipykernel)",
   "language": "python",
   "name": "python3"
  },
  "language_info": {
   "codemirror_mode": {
    "name": "ipython",
    "version": 3
   },
   "file_extension": ".py",
   "mimetype": "text/x-python",
   "name": "python",
   "nbconvert_exporter": "python",
   "pygments_lexer": "ipython3",
   "version": "3.7.12"
  },
  "toc": {
   "base_numbering": 1,
   "nav_menu": {},
   "number_sections": true,
   "sideBar": true,
   "skip_h1_title": false,
   "title_cell": "Table of Contents",
   "title_sidebar": "Contents",
   "toc_cell": false,
   "toc_position": {},
   "toc_section_display": true,
   "toc_window_display": true
  }
 },
 "nbformat": 4,
 "nbformat_minor": 5
}
